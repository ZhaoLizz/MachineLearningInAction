{
 "cells": [
  {
   "cell_type": "code",
   "execution_count": 1,
   "metadata": {},
   "outputs": [],
   "source": [
    "import numpy as np"
   ]
  },
  {
   "cell_type": "code",
   "execution_count": 2,
   "metadata": {},
   "outputs": [],
   "source": [
    "def load_data_set():\n",
    "    \"\"\"\n",
    "    读取数据,在X的第一列添加1.0\n",
    "    :return: \n",
    "    \"\"\"\n",
    "    data_arr = []\n",
    "    label_arr = []\n",
    "    f = open('TestSet.txt','r')\n",
    "    for line in f.readlines():\n",
    "        line_arr = line.strip().split()\n",
    "        data_arr .append([1.0,np.float(line_arr[0]),np.float(line_arr[1])])\n",
    "        label_arr.append(int(line_arr[2]))\n",
    "    return data_arr,label_arr\n",
    "        "
   ]
  },
  {
   "cell_type": "code",
   "execution_count": 3,
   "metadata": {},
   "outputs": [],
   "source": [
    "def sigmoid(X):\n",
    "    return 1.0 / (1 + np.exp(-X))\n"
   ]
  },
  {
   "cell_type": "code",
   "execution_count": 4,
   "metadata": {},
   "outputs": [],
   "source": [
    "def grad_descent(data_arr, class_labels, alpha=0.001, max_cycles=500):\n",
    "    losses = []\n",
    "    data_mat = np.mat(data_arr)  # (m,n+1)\n",
    "    label_mat = np.mat(class_labels).T  # 列矩阵(m,1)\n",
    "    m, n = data_mat.shape  # 注意这里的n已经是加了一列1的\n",
    "    weights = np.ones((n, 1))  #(n+1,1)\n",
    "    for k in range(max_cycles):\n",
    "        h = sigmoid(data_mat * weights)  # (m,1)\n",
    "        error = h - label_mat  #(m,1)\n",
    "        weights = weights - alpha / m * data_mat.T * error\n",
    "        losses.append(loss(data_mat,label_mat,weights))\n",
    "    \n",
    "    return weights,losses\n"
   ]
  },
  {
   "cell_type": "code",
   "execution_count": 5,
   "metadata": {},
   "outputs": [],
   "source": [
    "\n",
    "def plot_best_fit(weights):\n",
    "    import matplotlib.pyplot as plt\n",
    "    data_mat ,label_mat = load_data_set()\n",
    "    data_arr = np.array(data_mat)\n",
    "    n = data_arr.shape[0]\n",
    "    x_cord1,y_cord1,x_cord2,y_cord2 = [],[],[],[]\n",
    "    # 遍历数据集每一行\n",
    "    for i in range(n):\n",
    "        if int(label_mat[i] == 1): # 正例\n",
    "            x_cord1.append(data_arr[i,1])\n",
    "            y_cord1.append(data_arr[i,2])\n",
    "        else:\n",
    "            x_cord2.append(data_arr[i,1])\n",
    "            y_cord2.append(data_arr[i,2])\n",
    "    fig = plt.figure()\n",
    "    ax = fig.add_subplot(111)\n",
    "    ax.scatter(x_cord1,y_cord1,s=30,color='k',marker='^')\n",
    "    ax.scatter(x_cord2,y_cord2,s=30,color='red',marker='s')\n",
    "    x = np.arange(-3.0, 3.0, 0.1)\n",
    "    y = (-weights[0] - weights[1] * x) / weights[2]\n",
    "    y = y.reshape((60,))\n",
    "    \n",
    "    \n",
    "    ax.plot(x,y)\n",
    "    plt.xlabel('x1')\n",
    "    plt.ylabel('y1')\n",
    "    plt.show()\n",
    "    "
   ]
  },
  {
   "cell_type": "code",
   "execution_count": 14,
   "metadata": {},
   "outputs": [],
   "source": [
    "def loss(X,y,weights):\n",
    "    # all is mat\n",
    "    weights = np.mat(weights)\n",
    "    y_predict = np.dot(X,weights)\n",
    "    loss = y.T * X * weights - np.sum(np.log(1 + np.exp(X * weights)))\n",
    "    return -loss\n",
    "\n",
    "def plot_loss(losses):\n",
    "    import matplotlib.pyplot as plt\n",
    "    x_cord = losses\n",
    "    y_cord = [i for i in range(len(losses))]\n",
    "    fig = plt.figure()\n",
    "    fig.set_size_inches(18.5, 10.5)\n",
    "    ax = fig.add_subplot(111)\n",
    "    ax.scatter(x_cord,y_cord,s=30,color='k',marker='^')\n",
    "    plt.xlabel('iter')\n",
    "    plt.ylabel('loss')\n",
    "    plt.show()"
   ]
  },
  {
   "cell_type": "code",
   "execution_count": 12,
   "metadata": {},
   "outputs": [],
   "source": [
    "def test():\n",
    "    data_arr,class_labels = load_data_set()\n",
    "    weights,losses = grad_descent(np.array(data_arr),class_labels)\n",
    "#     plot_best_fit(weights)\n",
    "    plot_loss(losses)"
   ]
  },
  {
   "cell_type": "code",
   "execution_count": 15,
   "metadata": {},
   "outputs": [
    {
     "data": {
      "image/png": "[encoded data removed]",
      "text/plain": [
       "<Figure size 1332x756 with 1 Axes>"
      ]
     },
     "metadata": {},
     "output_type": "display_data"
    }
   ],
   "source": [
    "test()"
   ]
  },
  {
   "cell_type": "code",
   "execution_count": null,
   "metadata": {},
   "outputs": [],
   "source": []
  }
 ],
 "metadata": {
  "kernelspec": {
   "display_name": "Python 3",
   "language": "python",
   "name": "python3"
  },
  "language_info": {
   "codemirror_mode": {
    "name": "ipython",
    "version": 3
   },
   "file_extension": ".py",
   "mimetype": "text/x-python",
   "name": "python",
   "nbconvert_exporter": "python",
   "pygments_lexer": "ipython3",
   "version": "3.6.5"
  }
 },
 "nbformat": 4,
 "nbformat_minor": 1
}
